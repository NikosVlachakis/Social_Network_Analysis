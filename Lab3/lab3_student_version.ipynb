{
 "cells": [
  {
   "cell_type": "markdown",
   "id": "1f35580e",
   "metadata": {},
   "source": [
    "<html><font size=6><B>3η εργαστηριακή άσκηση</B><BR>\n",
    "    <BR><B>Link prediction - Πρόβλεψη συνδέσμων</B></BR>\n",
    "    </font></html>"
   ]
  },
  {
   "cell_type": "markdown",
   "id": "b30af479",
   "metadata": {},
   "source": [
    "<html><font size=4><B>1. Κατασκευή γράφου και προεργασία για την πρόβλεψη συνδέσμων</B></font>\n",
    "    <li><B>1(i).</B> Χρησιμοποιήστε το dataset <a href=\"http://konect.cc/networks/dbpedia-similar/\"> Similarities (DBpedia)</a>, για να κατασκευάσετε τον μη κατευθυνόμενο (undirected) γράφο $G$ <a href=\"https://dl.acm.org/doi/10.1145/2487788.2488173\">[1]</a>,<a href=\"https://link.springer.com/chapter/10.1007/978-3-540-76298-0_52\">[2]</a>. Οι κόμβοι του γράφου αναπαριστούν σελίδες της Wikipedia και οι ακμές σχέση ομοιότητας μεταξύ τους. Στην σελίδα <a href=\"http://konect.cc/networks/dbpedia-similar/\"> KONECT (DBpedia)</a> μπορείτε να βρείτε πληροφορίες για τις ιδιότητες του γράφου.</a><BR>\n",
    "        <B><U>Υπόδειξη:</U></B> Μπορείτε να ελέγξετε προγραμματιστικά αν το dataset περιέχει διπλότυπα των ακμών με την ίδια ή αντίστροφη σειρά (π.χ. ακμές (a,b) και (b,a)), και να λάβετε υπ' όψιν σας αυτήν σας την παρατήρηση, όπου τυχόν χρειαστεί, στην ερώτηση 2.<BR></html>"
   ]
  },
  {
   "cell_type": "code",
   "execution_count": 140,
   "id": "0f8bfd0e",
   "metadata": {},
   "outputs": [
    {
     "name": "stdout",
     "output_type": "stream",
     "text": [
      "No duplicate edges found\n",
      "Graph with 430 nodes and 565 edges\n"
     ]
    }
   ],
   "source": [
    "\n",
    "import networkx as nx\n",
    "import matplotlib.pyplot as plt\n",
    "import pandas as pd\n",
    "import numpy as np\n",
    "import warnings\n",
    "warnings.filterwarnings('ignore')\n",
    "\n",
    "edges = set()\n",
    "duplicates = set()\n",
    "\n",
    "# Open the file for reading\n",
    "with open('./dbpedia-similar/out.dbpedia-similar', 'r') as f:\n",
    "    # Iterate over the lines in the file\n",
    "    for line in f:\n",
    "        # Split the line into two parts\n",
    "        parts = line.split()\n",
    "        # Convert the parts to integers\n",
    "        from_node = int(parts[0])\n",
    "        to_node = int(parts[1])\n",
    "        # Add the edge to the set, with the nodes sorted in ascending order\n",
    "        edge = tuple(sorted((from_node, to_node)))\n",
    "        if edge in edges:\n",
    "            duplicates.add(edge)\n",
    "        else:\n",
    "            edges.add(edge)\n",
    "\n",
    "if len(duplicates) == 0:\n",
    "    print(\"No duplicate edges found\")\n",
    "else:\n",
    "    # Print the duplicate edges\n",
    "    print(\"Duplicate edges:\", duplicates)\n",
    "\n",
    "\n",
    "# Create a graph from the edges\n",
    "G = nx.read_edgelist('./dbpedia-similar/out.dbpedia-similar', create_using=nx.Graph())\n",
    "print(G)\n",
    " \n",
    "\n"
   ]
  },
  {
   "cell_type": "markdown",
   "id": "4bd79bac",
   "metadata": {},
   "source": [
    " <li><B>1(ii).</B> Εμφανίστε τον αριθμό των κόμβων, τον αριθμό των ακμών, τον μέσο βαθμό των κόμβων και τον αριθμό των συνεκτικών συνιστωσών (connected components) για τον γράφο $G$.</li><BR>"
   ]
  },
  {
   "cell_type": "code",
   "execution_count": 141,
   "id": "9277a4e2",
   "metadata": {},
   "outputs": [
    {
     "name": "stdout",
     "output_type": "stream",
     "text": [
      "Number of nodes in the graph:  430\n",
      "Number of edges in the graph:  565\n",
      "Average degree of nodes in the graph:  0.0061256572884480125\n",
      "Number of connected components in the graph:  95\n"
     ]
    }
   ],
   "source": [
    "initial_node_count= len(G.nodes())\n",
    "print(\"Number of nodes in the graph: \", initial_node_count)\n",
    "\n",
    "initial_edge_count= len(G.edges())\n",
    "print(\"Number of edges in the graph: \", initial_edge_count)\n",
    "\n",
    "initial_degree_avg = sum(nx.degree_centrality(G).values()) / initial_node_count\n",
    "print(\"Average degree of nodes in the graph: \", initial_degree_avg)\n",
    "\n",
    "initial_number_of_connected_components = nx.number_connected_components(G)\n",
    "print(\"Number of connected components in the graph: \", initial_number_of_connected_components)\n"
   ]
  },
  {
   "cell_type": "markdown",
   "id": "bf03f6b9",
   "metadata": {},
   "source": [
    "<li><B>1(iii). </B>Υπολογίστε το σύνολο των ασύνδετων ζευγών κόμβων (unconnected pairs) στον γράφο χρησιμοποιώντας τον πίνακα γειτνίασης (adjacency matrix). Δώστε επίσης τον αριθμό τους. Λάβετε υπ' όψιν σας ότι ο γράφος είναι μη κατευθυνόμενος και δεν χρειάζεται να διατρέξετε ολόκληρο τον πίνακα γειτνίασης.</li><BR>"
   ]
  },
  {
   "cell_type": "code",
   "execution_count": 142,
   "id": "e3782c9a",
   "metadata": {},
   "outputs": [
    {
     "name": "stdout",
     "output_type": "stream",
     "text": [
      "Number of unconnected pairs:  91671\n"
     ]
    }
   ],
   "source": [
    "\n",
    "def find_unconnected(G):\n",
    "    # Get the adjacency matrix of the graph\n",
    "    adj_matrix = nx.adjacency_matrix(G)\n",
    "    # Convert the matrix to a dense NumPy array\n",
    "    adj_array = adj_matrix.toarray()\n",
    "    # Create an empty list to store the unconnected pairs\n",
    "    unconnected = []\n",
    "    # Iterate over the rows and columns of the array\n",
    "    for i in range(adj_array.shape[0]):\n",
    "        for j in range(adj_array.shape[1]):\n",
    "            # If the element is 0 and the row index is less than the column index, add the corresponding pair of nodes to the list\n",
    "            if adj_array[i, j] == 0 and i < j:\n",
    "                unconnected.append((str(i+1), str(j+1)))\n",
    "    # Return the list of unconnected pairs\n",
    "    return unconnected\n",
    "\n",
    "unconnected_pairs = find_unconnected(G)\n",
    "\n",
    "print(\"Number of unconnected pairs: \", len(find_unconnected(G)))\n",
    "\n"
   ]
  },
  {
   "cell_type": "markdown",
   "id": "154c2a8d",
   "metadata": {},
   "source": [
    "<li><B>1(iv).</B> Υπολογίστε το σύνολο των ακμών (removable edges) που μπορούν να αφαιρεθούν από τον γράφο χωρίς να υπάρχει κατάτμηση (splitting) του γράφου (δηλ. ο αριθμός των συνεκτικών συνιστωσών θα πρέπει να παραμένει αμετάβλητος). Υπόδειξη: Ελέγχετε επίσης ότι με αφαίρεση ακμής δεν μειώνεται ο αριθμός των κόμβων (εφόσον δεν υπάρχει ξεχωριστό αρχείο μόνο με κόμβους στο dataset). Δώστε επίσης τον αριθμό των ακμών (removable edges) που μπορούν να αφαιρεθούν υπό αυτές τις προϋποθέσεις.</li><BR>"
   ]
  },
  {
   "cell_type": "code",
   "execution_count": 143,
   "id": "b39c2241",
   "metadata": {},
   "outputs": [
    {
     "name": "stdout",
     "output_type": "stream",
     "text": [
      "Number of removable edges in the graph:  229\n"
     ]
    }
   ],
   "source": [
    "removable_edges = list()\n",
    "copy_of_G = G.copy()\n",
    "for edge in G.edges():\n",
    "    # remove the edge from the copy of the graph\n",
    "    copy_of_G.remove_edge(*edge)\n",
    "    # check if the number_connected_components remains the same and the number of nodes is the same. Also we removed the self-loops\n",
    "    if (nx.number_connected_components(copy_of_G) == initial_number_of_connected_components and len(copy_of_G.nodes()) == initial_node_count) and edge[0] != edge[1]:\n",
    "        # add the edge to the set of removable edges\n",
    "        removable_edges.append(edge)\n",
    "    else:\n",
    "        # add the edge back to the graph\n",
    "        copy_of_G.add_edge(*edge)\n",
    "\n",
    "print(\"Number of removable edges in the graph: \", len(removable_edges))"
   ]
  },
  {
   "cell_type": "markdown",
   "id": "eb03d745",
   "metadata": {},
   "source": [
    "<li><B>1(vα).</B> Κατασκευάστε dataframe που συνενώνει τις απαντήσεις των ερωτημάτων 1(iii) και 1(iv) (unconnected+removables). Χρησιμοποιήστε την μεταβλητή $link$ που θα παίρνει τιμή 1 ή 0 ανάλογα με την ύπαρξη συνδέσμου ή μη. To dataframe αυτό συγκεντρώνει τα θετικά και αρνητικά δείγματα για την πρόβλεψη των μελλοντικών συνδέσεων (link: target variable). <BR>\n",
    "    <li><B>1(vβ).</B> Κατασκευάστε τον γράφο $G'$ που προκύπτει από την αφαίρεση από τον γράφο $G$ των ακμών του ερωτήματος 1(iv). <BR>\n",
    "    <li><B>1(vγ).</B> Εμφανίστε τον αριθμό των κόμβων, τον αριθμό των ακμών, τον μέσο βαθμό των κόμβων και τον αριθμό των συνεκτικών συνιστωσών (connected components) για τον γράφο $G'$.</li><BR>"
   ]
  },
  {
   "cell_type": "code",
   "execution_count": 160,
   "id": "cb033fc0",
   "metadata": {},
   "outputs": [
    {
     "name": "stdout",
     "output_type": "stream",
     "text": [
      "      node1 node2  link\n",
      "0         1     2     1\n",
      "1         1     3     1\n",
      "2         1     4     1\n",
      "3         3     4     1\n",
      "4         3     5     1\n",
      "...     ...   ...   ...\n",
      "91895   426   430     0\n",
      "91896   427   428     0\n",
      "91897   427   429     0\n",
      "91898   427   430     0\n",
      "91899   429   430     0\n",
      "\n",
      "[91900 rows x 3 columns]\n",
      "Number of nodes in the new graph:  430\n",
      "Number of edges in the new graph:  336\n",
      "Average degree of nodes in the new graph:  0.0036428687591478492\n",
      "Number of connected components in the new graph:  95\n"
     ]
    }
   ],
   "source": [
    "# create a dataframe with removable edges\n",
    "df_removable_edges = pd.DataFrame(removable_edges, columns=['node1', 'node2'])\n",
    "df_removable_edges['link'] = 1\n",
    "\n",
    "# create a dataframe with unconnected pairs\n",
    "df_unconnected = pd.DataFrame(unconnected_pairs, columns=['node1', 'node2'])\n",
    "df_unconnected['link'] = 0\n",
    "\n",
    "#merge in one dataframe\n",
    "df_removable_unconnected = pd.concat([df_removable_edges, df_unconnected], ignore_index=True)\n",
    "\n",
    "print(df_removable_unconnected)\n",
    "\n",
    "#build graph G'= G - removable_edges\n",
    "G_new = G.copy()\n",
    "G_new.remove_edges_from(removable_edges)\n",
    "\n",
    "G_new_node_count= len(G_new.nodes())\n",
    "print(\"Number of nodes in the new graph: \", G_new_node_count)\n",
    "\n",
    "G_new_edge_count= len(G_new.edges())\n",
    "print(\"Number of edges in the new graph: \", G_new_edge_count)\n",
    "\n",
    "G_new_degree_avg = sum(nx.degree_centrality(G_new).values()) / G_new_node_count\n",
    "print(\"Average degree of nodes in the new graph: \", G_new_degree_avg)\n",
    "\n",
    "G_new_number_of_connected_components = nx.number_connected_components(G_new)\n",
    "print(\"Number of connected components in the new graph: \", G_new_number_of_connected_components)\n",
    "\n"
   ]
  },
  {
   "cell_type": "markdown",
   "id": "184eae57",
   "metadata": {},
   "source": [
    "<html><font size=4><B>2. Εισαγωγή σε similarity-based μετρικές για Link prediction</B></font><BR><BR>\n",
    "     <li> Η μετρική <B>Jaccard Coefficient (JC)</B> των κόμβων ${u}$ και ${v}$ ορίζεται ως $\\frac{|\\Gamma(u) \\cap \\Gamma(v)|}{|\\Gamma(u) \\cup \\Gamma(v)|}$, όπου ${\\Gamma(u)}$ είναι το σύνολο των γειτονικών κόμβων του κόμβου ${u}$.  <B></B>\n",
    "        <li> Η μετρική <B>Preferential Αttachment (PA)</B> των κόμβων $u$ και $v$ ορίζεται ως $|\\Gamma(u)| |\\Gamma(v)|$, όπου $\\Gamma(u)$ είναι το σύνολο των γειτονικών κόμβων του $u$.</li>\n",
    "        <li> Η μετρική <B>Resource Allocation (RA)</B> των κόμβων $u$ και $v$ ορίζεται ως $\\sum_{w \\in \\Gamma(u) \\cap \\Gamma(v)} \\frac{1}{|\\Gamma(w)|}$, όπου $\\Gamma(u)$ είναι το σύνολο των γειτονικών κόμβων του $u$.</li><BR><BR>\n",
    "    <li><B>2(i).</B> Για τον γράφο $G'$, που κατασκευάσατε στο ερώτημα 1(vβ), υπολογίστε την μετρική <B>Jaccard Coefficient (JC)</B>.  <u><a href=\"https://networkx.org/documentation/stable/reference/algorithms/link_prediction.html?highlight=link%20prediction\">Χρησιμοποιήστε την υλοποιημένη συνάρτηση του λογισμικού NetworkX.<a></u> <BR><BR>\n",
    "    <li><B>2(ii). </B>Δώστε τις $k$ ακμές με την υψηλότερη τιμή μετρικής $JC$, όπου $k$ ο $Α.Μ.$ σας $mod$ $10$. Για $Α.Μ.$ λήγοντα σε $0$ δώστε τις $10$ ακμές με την υψηλότερη τιμή μετρικής.\n",
    "        (Για την σύγκριση μεταξύ διαφορετικών μετρικών προτιμάται η εύρεση των $k$ επικρατέστερων συνδέσμων, αφού οι μετρικές επιστρέφουν διαφορετικό εύρος τιμών.)</li><BR>\n",
    "    <li><B>2(iii). </B>Προσδιορίστε για την μέτρηση της απόδοσης της μετρικής $JC$ τα μεγέθη $Precision$, $Recall$ και $Accuracy$ και αναπαραστήστε τα γραφικά για τιμές κατωφλίου: $0.1$, $0.15$, $0.25$, $0.5$, $1.0$.  <BR><BR>\n",
    "    $Precision=\\frac{TP}{TP+FP}$, όπου $TP$: αληθώς θετικά αποτελέσματα, $FP$: ψευδώς θετικά αποτελέσματα <BR>\n",
    "    $Recall=\\frac{TP}{TP+FN}$, όπου $TP$: αληθώς θετικά αποτελέσματα, $FN$: ψευδώς αρνητικά αποτελέσματα</li> \n",
    "    $Accuracy=\\frac{TP+TN}{TP+FN+TN+FP}$, όπου $TP$: αληθώς θετικά αποτελέσματα, $TN$: αληθώς αρνητικά αποτελέσματα, $FN$: ψευδώς αρνητικά αποτελέσματα, $FP$: ψευδώς θετικά αποτελέσματα</li><BR><BR>\n",
    "        <B><U>Υπόδειξη:</U></B>\n",
    "        Θετικό θεωρήστε ένα αποτέλεσμα, αν η μετρική $JC$ υπερβαίνει μια τιμή κατωφλίου (>=). Αρνητικό θεωρήστε το στην αντίθετη περίπτωση.\n",
    "        <li>Αληθώς θετικά είναι τα αποτελέσματα που βγήκαν θετικά (η τιμή της $JC$ υπερβαίνει την τιμή κατωφλίου) και πράγματι θα υπάρξουν οι συνδέσεις που περιγράφουν (ερ. 1(iv)).</li>\n",
    "        <li>Αληθώς αρνητικά είναι τα αποτελέσματα που βγήκαν αρνητικά και πράγματι δεν θα υπάρξουν οι συνδέσεις που περιγράφουν (ερ. 1(iii)).</li>\n",
    "        <li>Ψευδώς θετικά είναι τα αποτελέσματα που βγήκαν θετικά, ενώ δεν θα υπάρξουν οι συνδέσεις που περιγράφουν.</li>\n",
    "        <li>Ψευδώς αρνητικά είναι τα αποτελέσματα που βγήκαν αρνητικά, ενώ θα υπάρξουν οι συνδέσεις που περιγράφουν.</li>\n",
    "        <li>Το άθροισμα $TN+FP$ πρέπει κάθε φορά να σας δίνει όλες τις ασύνδετες ακμές του γράφου $G$.</li>   \n",
    "<li>Από το ερώτημα 1(iii) οι ακμές που υπολογίσατε είναι αυτές για τις οποίες δεν θα υπάρξουν συνδέσεις.</li> <li>Από το ερώτημα 1(iv) οι ακμές που υπολογίσατε είναι αυτές για τις οποίες θα υπάρξουν συνδέσεις.</li><BR></html>"
   ]
  },
  {
   "cell_type": "code",
   "execution_count": 145,
   "id": "d8b0d5fd",
   "metadata": {},
   "outputs": [
    {
     "name": "stdout",
     "output_type": "stream",
     "text": [
      "top_k_edges are: [('162', '161', 1.0)]\n",
      "Precision:  0.3991228070175439 Recall:  0.6594202898550725 Accuracy:  0.9962095461755557\n",
      "Precision:  0.39732142857142855 Recall:  0.644927536231884 Accuracy:  0.9962095461755557\n",
      "Precision:  0.4251207729468599 Recall:  0.6376811594202898 Accuracy:  0.996518550563418\n",
      "Precision:  0.506578947368421 Recall:  0.5579710144927537 Accuracy:  0.997198360216715\n",
      "Precision:  0.5655737704918032 Recall:  0.5 Accuracy:  0.9974867643120532\n"
     ]
    },
    {
     "data": {
      "image/png": "[encoded data removed]",
      "text/plain": [
       "<Figure size 1500x500 with 3 Axes>"
      ]
     },
     "metadata": {},
     "output_type": "display_data"
    }
   ],
   "source": [
    "# 2(i).\n",
    "# define a function that returns the Jaccard coefficient of a graph\n",
    "def JCfunction(graph): \n",
    "    return nx.jaccard_coefficient(graph)\n",
    "\n",
    "# 2(ii).\n",
    "# ΑΜ = 18441\n",
    "k = 18441%10\n",
    "# sort the edges by the Jaccard coefficient\n",
    "sorted_edges = sorted(JCfunction(G_new), key=lambda x: x[2], reverse=True)\n",
    "# get the top k edges\n",
    "top_k_edges = sorted_edges[:k]\n",
    "# print the top k edges\n",
    "print(\"top_k_edges are:\",top_k_edges)\n",
    "\n",
    "# 2(iii).\n",
    "threshold_values = [0.1,0.15,0.25,0.5,1]\n",
    "\n",
    "set_removable_edges = set(removable_edges)\n",
    "set_unconnected_pairs = set(unconnected_pairs)\n",
    "\n",
    "# function that returns the precision, recall and accuracy metrics for Jaccard coefficient\n",
    "def metrics_JC(threshold):\n",
    "    # define the true positives, false positives, false negatives and true negatives\n",
    "    TP = 0\n",
    "    FP = 0\n",
    "    FN = 0\n",
    "    TN = 0\n",
    "    # iterate over the top k edges\n",
    "    for edge in sorted_edges:\n",
    "        # if the edge is in the removable edges and the Jaccard coefficient is greater than the threshold, then it is a true positive\n",
    "        if (edge[0], edge[1]) in set_removable_edges and edge[2] >= threshold:\n",
    "            TP += 1\n",
    "        # if the edge is in the set_unconnected_pairs and the Jaccard coefficient is greater than the threshold, then it is a false positive\n",
    "        elif (edge[0], edge[1]) in set_unconnected_pairs and edge[2] >= threshold:\n",
    "            FP += 1\n",
    "        # if the edge is in the removable edges and the Jaccard coefficient is less than the threshold, then it is a false negative\n",
    "        elif (edge[0], edge[1]) in set_removable_edges and edge[2] <= threshold:\n",
    "            FN += 1\n",
    "        # if the edge is in the set_unconnected_pairs and the Jaccard coefficient is less than the threshold, then it is a true negative\n",
    "        elif (edge[0], edge[1]) in set_unconnected_pairs and edge[2] <= threshold:\n",
    "            TN += 1\n",
    "    \n",
    "\n",
    "    # calculate the precision, recall and accuracy and ensure that the denominator is not 0\n",
    "    if (TP + FP) != 0:\n",
    "        precision = TP/(TP + FP)\n",
    "    else:\n",
    "        precision = 0\n",
    "    if (TP + FN) != 0:\n",
    "        recall = TP/(TP + FN)\n",
    "    else:\n",
    "        recall = 0\n",
    "    if (TP + TN + FP + FN) != 0:\n",
    "        accuracy = (TP + TN)/(TP + TN + FP + FN)\n",
    "    else:\n",
    "        accuracy = 0\n",
    "    # return the precision, recall and accuracy\n",
    "    return precision, recall, accuracy\n",
    "   \n",
    "\n",
    "# print the precision, recall and accuracy for each threshold\n",
    "for threshold in threshold_values:\n",
    "    precision, recall, accuracy = metrics_JC(threshold)\n",
    "    print(\"Precision: \", precision, \"Recall: \", recall, \"Accuracy: \", accuracy)\n",
    "\n",
    "\n",
    "# precision graph\n",
    "precision_values = []\n",
    "recall_values = []\n",
    "accuracy_values = []\n",
    "for threshold in threshold_values:\n",
    "    precision, recall, accuracy = metrics_JC(threshold)\n",
    "    precision_values.append(precision)\n",
    "    recall_values.append(recall)\n",
    "    accuracy_values.append(accuracy)\n",
    "\n",
    "# create a diagram with 3 subplots one for each metric \n",
    "fig, (ax1, ax2, ax3) = plt.subplots(1, 3, figsize=(15, 5))\n",
    "for ax, values, title in zip([ax1, ax2, ax3], [precision_values, recall_values, accuracy_values], ['Precision', 'Recall', 'Accuracy']):\n",
    "    ax.plot(threshold_values, values)\n",
    "    ax.set_title(title)\n",
    "    ax.set_xlabel('Threshold')\n",
    "    # ax.set_ylabel(title)\n",
    "\n",
    "plt.show()\n"
   ]
  },
  {
   "cell_type": "markdown",
   "id": "d432396f",
   "metadata": {},
   "source": [
    "<html><font size=4><B>3. Πρόβλεψη συνδέσμων βάσει similarity-based μετρικών</B></font>    \n",
    "        <li><B>3(i).</B> Προτείνετε μια τουλάχιστον μέθοδο, για να εξερευνήσουμε και να εκφράσουμε μέσα από τα πακέτα NumPy ή SciPy ή Pandas την συσχέτιση (correlation) μεταξύ των τιμών των μετρικών <B>Jaccard Coefficient</B>, <B>Preferential Attachment</B>, <B>Resource Allocation</B> για τον μειωμένο γράφο $G'$. Σημ.: Δεν χρειάζεται κάποια υλοποίηση, μόνο αναφορά της μεθόδου συσχέτισης και επεξήγηση της επιλογής σας.\n",
    "     <li><B>3(ii).</B> Εργαστείτε πάνω σε <B><U>αντίγραφο</U></B> του dataframe που κατασκευάσατε στο ερώτημα 1(vα) (unconnected+removables). Δημιουργήστε στήλη (column) με τις ακμές του γράφου και θέστε την ως index του dataframe. Στο dataframe θα προσθέσετε ως στήλες τις τιμές των μετρικών (<B>Jaccard Coefficient</B>, <B>Preferential Attachment</B>, <B>Resource Allocation</B>) για τον μειωμένο γράφο $G'$. Οι τιμές των μετρικών μπορούν να υπολογιστούν με τις συναρτήσεις του πακέτου NetworkX.</li>   </font></html>\n",
    "    \n",
    "    |       | link  |Jacc.Coeff.|Pr.Attachment| Resource Allocation|\n",
    "    |-------|-------|-----------|-------------|--------------------|\n",
    "    |(1, 6) |  0    |  0.333333 |     32      |    0.700000        |\n",
    "    |(1, 46)|  0    |  0.200000 |      8      |    0.166667        |"
   ]
  },
  {
   "cell_type": "code",
   "execution_count": 146,
   "id": "8dcbe00a",
   "metadata": {},
   "outputs": [
    {
     "name": "stdout",
     "output_type": "stream",
     "text": [
      "          RA        PA        JC\n",
      "RA  1.000000  0.029946  0.630806\n",
      "PA  0.029946  1.000000 -0.015877\n",
      "JC  0.630806 -0.015877  1.000000\n"
     ]
    }
   ],
   "source": [
    "# calculate Preferential Attachment, Resource Allocation and Jacard coefficient for the graph G_new\n",
    "PA = list(nx.preferential_attachment(G_new))\n",
    "RA = list(nx.resource_allocation_index(G_new))\n",
    "JC = list(nx.jaccard_coefficient(G_new))\n",
    "\n",
    "# calculate the correlation between the metrics using pandas\n",
    "df = pd.DataFrame(PA, columns=['node1', 'node2', 'PA'])\n",
    "df['RA'] = [x[2] for x in RA]\n",
    "df['JC'] = [x[2] for x in JC]\n",
    "\n",
    "# find the correlation between RA, PA and JC\n",
    "print(df[['RA', 'PA', 'JC']].corr())\n"
   ]
  },
  {
   "cell_type": "code",
   "execution_count": 147,
   "id": "7c40c8d6",
   "metadata": {},
   "outputs": [
    {
     "name": "stdout",
     "output_type": "stream",
     "text": [
      "91900\n"
     ]
    }
   ],
   "source": [
    "#  copy of df_removable_unconnected\n",
    "df_removable_unconnected_copy = df_removable_unconnected.copy()\n",
    "\n",
    "\n",
    "# make node1 and node2 columns as a tuple and set them as the index\n",
    "df_removable_unconnected_copy['node1_node2'] = list(zip(df_removable_unconnected_copy['node1'], df_removable_unconnected_copy['node2']))\n",
    "df_removable_unconnected_copy.set_index('node1_node2', inplace=True)\n",
    "# drop the node1 and node2 columns\n",
    "df_removable_unconnected_copy.drop(['node1', 'node2'], axis=1, inplace=True)\n",
    "\n",
    "print(len(df_removable_unconnected_copy))\n",
    "\n",
    "\n"
   ]
  },
  {
   "cell_type": "code",
   "execution_count": 148,
   "id": "8c65a3e6",
   "metadata": {},
   "outputs": [],
   "source": [
    "#dataframe for similarity-based measurement values\n",
    "#Jaccard Coefficient\n",
    "\n",
    "#Preferential Attachment\n",
    "\n",
    "#Resource Allocation"
   ]
  },
  {
   "cell_type": "markdown",
   "id": "76f9318d",
   "metadata": {},
   "source": [
    "<li><B>3(iiiα).</B> Χρησιμοποιήστε τον Random Forest Classifier και το αντίγραφο dataframe που κατασκευάσατε στο ερώτημα 3(ii), για να προβλέψετε συνδέσεις. Συμπληρώστε στον κώδικα: τα features ($X$), την target variable ($y$) και τα ορίσματα της συνάρτησης $fit$ για το training του μοντέλου.</li>\n",
    "<li><B>3(iiiβ).</B> Δώστε τις ($A.M$ $mod$ $10$) πρώτες προβλέψεις και την ακρίβεια ($accuracy$) του μοντέλου. </li>\n",
    "<li><B>3(iiiγ).</B>Υπολογίστε την πιθανότητα να συνδεθούν οι κόμβοι ($1$,$47$) βάσει του μοντέλου σας. </li>  "
   ]
  },
  {
   "cell_type": "code",
   "execution_count": 149,
   "id": "df4a65f5",
   "metadata": {},
   "outputs": [],
   "source": [
    "#uncomment whole cell\n",
    "#from sklearn.model_selection import train_test_split\n",
    "#from sklearn.ensemble import RandomForestClassifier\n",
    "#from sklearn.metrics import accuracy_score\n",
    "#from sklearn.model_selection import GridSearchCV\n",
    " \n",
    "#X =             #features, uncomment and complete\n",
    "#y = ...['link'] #target, uncomment and complete\n",
    "\n",
    "#X_train, X_test, y_train, y_test = train_test_split(, , random_state = 0) #uncomment and complete"
   ]
  },
  {
   "cell_type": "code",
   "execution_count": 150,
   "id": "26affc3a",
   "metadata": {},
   "outputs": [],
   "source": [
    "#uncomment whole cell\n",
    "#classifier = RandomForestClassifier()   \n",
    "\n",
    "#from sklearn.preprocessing import MinMaxScaler \n",
    "#mm_scaler = MinMaxScaler() \n",
    "#X_train_scaled = mm_scaler.fit_transform(X_train)\n",
    "#X_test_scaled = mm_scaler.transform(X_test)\n",
    "\n",
    "#parameters = {'n_estimators' : [10,50,100], 'max_depth' : [5,10,15]} \n",
    "#model = GridSearchCV(classifier, param_grid = parameters) "
   ]
  },
  {
   "cell_type": "code",
   "execution_count": 151,
   "id": "431e2d35",
   "metadata": {},
   "outputs": [],
   "source": [
    "#model.fit(X_train_scaled, )#train the model, uncomment and complete"
   ]
  },
  {
   "cell_type": "code",
   "execution_count": 152,
   "id": "1b075584",
   "metadata": {},
   "outputs": [],
   "source": [
    "#predictions = model.predict(X_test_scaled)       #uncomment\n",
    "#predictions[ ] #get (A.M. last digit) first predictions, uncomment and complete"
   ]
  },
  {
   "cell_type": "code",
   "execution_count": 153,
   "id": "b042eca7",
   "metadata": {},
   "outputs": [],
   "source": [
    "#predict_proba = model.predict_proba(...) #uncomment and complete"
   ]
  },
  {
   "cell_type": "markdown",
   "id": "f4c43988",
   "metadata": {},
   "source": [
    "<html><font size=4><B>4. Πρόβλεψη συνδέσμων με embedding βασισμένο σε τυχαίους περιπάτους (Random Walks) </B></font><BR><BR>\n",
    "    <li><B>4(i).</B> Εξάγετε τα χαρακτηριστικά (features) του γράφου $G'$, που προέκυψε από την αφαίρεση των ακμών. Για τον σκοπό αυτό χρησιμοποιήστε τον αλγόριθμο <B>Node2vec</B> <a href=\"https://cs.stanford.edu/~jure/pubs/node2vec-kdd16.pdf\">[3]</a>. Ο αλγόριθμος αντιστοιχίζει τους κόμβους του γράφου μέσω τυχαίων περιπάτων (biased 2nd order random walks) σε ένα χώρο μικρού αριθμού διαστάσεων (low dimensional space) διατηρώντας την μεταξύ τους γειτνίαση.\n",
    "        <BR>Για την επιλογή των παραμέτρων: \n",
    "            <li>p - παράμετρος τυχαίων περιπάτων p που καθορίζει την πιθανότητα “1/p” επιστροφής στον κόμβο προέλευσης (source node), </li>\n",
    "                <li>q - παράμετρος τυχαίων περιπάτων q που καθορίζει την πιθανότητα  “1/q” μετακίνησης σε κόμβο μακριά από τον κόμβο προέλευσης (source node), </li>\n",
    "                 <li>dimensions - πλήθος διαστάσεων των Node2Vec embeddings, </li>\n",
    "                     <li>num_walks - αριθμός περιπάτων από κάθε κόμβο, </li>\n",
    "                         <li>walk_length - μήκος τυχαίου περιπάτου, </li>\n",
    "                             <li>window_size - μέγεθος παραθύρου context για τον αλγόριθμο Word2Vec, </li><li>num_iter - αριθμός SGD επαναλήψεων (epochs), </li>\n",
    "            <li>workers - αριθμός workers για τον Word2Vec,</li>\n",
    "            χρησιμοποιήστε τις τιμές:   </html>\n",
    "   \n",
    "                   "
   ]
  },
  {
   "cell_type": "markdown",
   "id": "fdbc5274",
   "metadata": {},
   "source": [
    " |   p   |   q   | dimensions|  num_walks  |walk_length |window_size|        workers            |\n",
    " |-------|-------|-----------|-------------|------------|-----------|---------------------------|\n",
    " |  1.0  |  1.0  |  128      |     10      |    80      |     10    |multiprocessing.cpu_count()|"
   ]
  },
  {
   "cell_type": "code",
   "execution_count": 154,
   "id": "aa8e668d",
   "metadata": {},
   "outputs": [],
   "source": [
    "#install node2vec with conda / pip\n",
    "#from node2vec import Node2Vec   #uncomment\n",
    "#import multiprocessing          #uncomment\n",
    "\n",
    "#generate walks\n",
    "#node2vec_walker = Node2Vec(, , , , , , ) #uncomment and complete\n",
    "\n",
    "#train node2vec model\n",
    "#n2v_model = node2vec_walker.fit(window= , min_count=1) #uncomment and complete"
   ]
  },
  {
   "cell_type": "markdown",
   "id": "294f0aab",
   "metadata": {},
   "source": [
    "<html><font>\n",
    "    <li><B>4(ii).</B> Εφαρμόστε τον αλγόριθμο Random Forest Classifier, για να προβλέψετε τις συνδέσεις.</li><BR>\n",
    "    <li><B>4(iii).</B> Υπολογίστε την ακρίβεια ($accuracy$) του μοντέλου. </li><BR></font></html>"
   ]
  },
  {
   "cell_type": "code",
   "execution_count": 155,
   "id": "6269b89a",
   "metadata": {},
   "outputs": [],
   "source": [
    "#apply trained Node2Vec model on each node pair of the dataframe \"unconnected+removables\"\n",
    "#uncomment:\n",
    "#x = [(n2v_model.wv[str(i)]+n2v_model.wv[str(j)]) for i,j in zip(df_with_target_var['node_1'], df_with_target_var['node_2'])]"
   ]
  },
  {
   "cell_type": "code",
   "execution_count": 156,
   "id": "b74e7aa7",
   "metadata": {},
   "outputs": [],
   "source": [
    "#X_train, X_test, y_train, y_test = train_test_split(, , random_state = 0)  #uncomment and complete"
   ]
  },
  {
   "cell_type": "code",
   "execution_count": 157,
   "id": "e75cfde7",
   "metadata": {},
   "outputs": [],
   "source": [
    "#uncomment whole cell\n",
    "#from sklearn.ensemble import RandomForestClassifier\n",
    "#from sklearn.metrics import accuracy_score\n",
    "\n",
    "#classifier = RandomForestClassifier(max_depth=2, random_state=0) \n",
    "#classifier.fit()   #uncomment and complete"
   ]
  },
  {
   "cell_type": "markdown",
   "id": "a0c0b3bb",
   "metadata": {},
   "source": [
    "<html><font size=4> <B><U>Ερώτηση bonus (+10/100)</U><B>: </font>Για τους binary operators για learning των edge features με τον αλγόριθμο Node2Vec που αναφέρονται στο <a href=\"https://cs.stanford.edu/~jure/pubs/node2vec-kdd16.pdf\">[3]</a> ((α) Average, (β) Hadamard, (γ) Weighted-L1 και (δ) Weighted-L2) τροποποιήστε τoν κώδικά σας και σημειώστε τις παρατηρήσεις σας ως προς την απόδοση του αλγορίθμου.</font></html>"
   ]
  },
  {
   "cell_type": "markdown",
   "id": "8da3a402",
   "metadata": {},
   "source": [
    "<html><font size=4><B><U>Βιβλιογραφία:</U></B><BR></font>\n",
    "<a href=\"https://dl.acm.org/doi/10.1145/2487788.2488173\">[1]\tJérôme Kunegis. KONECT – The Koblenz Network Collection. In Proc. Int. Conf. on World Wide Web Companion, pages 1343–1350, 2013.</a><BR>\n",
    "<a href=\"https://link.springer.com/chapter/10.1007/978-3-540-76298-0_52\">[2]\tSören Auer, Christian Bizer, Georgi Kobilarov, Jens Lehmann, Richard Cyganiak, and Zachary Ives. DBpedia: A nucleus for a web of open data. In Proc. Int. Semant. Web Conf., pages 722–735, 2008.<BR>\n",
    "<a href=\"https://cs.stanford.edu/~jure/pubs/node2vec-kdd16.pdf\">[3] A. Grover, J. Leskovec, Node2vec: Scalable Feature Learning for Networks. ACM KDD, 2016.</a><BR>\n",
    " <a href=\"https://proceedings.neurips.cc/paper/2013/file/9aa42b31882ec039965f3c4923ce901b-Paper.pdf\">[4] T.Mikolov, I.Sutskever, K.Chen, G.S.Corrado and J.Dean, Distributed representations of words and phrases and their compositionality. In NIPS, 2013.</a><BR></font></html>"
   ]
  },
  {
   "cell_type": "code",
   "execution_count": null,
   "id": "89f16b76",
   "metadata": {},
   "outputs": [],
   "source": []
  }
 ],
 "metadata": {
  "kernelspec": {
   "display_name": "Python 3",
   "language": "python",
   "name": "python3"
  },
  "language_info": {
   "codemirror_mode": {
    "name": "ipython",
    "version": 3
   },
   "file_extension": ".py",
   "mimetype": "text/x-python",
   "name": "python",
   "nbconvert_exporter": "python",
   "pygments_lexer": "ipython3",
   "version": "3.10.8"
  },
  "vscode": {
   "interpreter": {
    "hash": "b0fa6594d8f4cbf19f97940f81e996739fb7646882a419484c72d19e05852a7e"
   }
  }
 },
 "nbformat": 4,
 "nbformat_minor": 5
}
